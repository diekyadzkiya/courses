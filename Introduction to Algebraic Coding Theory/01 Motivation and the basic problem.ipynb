{
 "cells": [
  {
   "cell_type": "markdown",
   "id": "11aef82b",
   "metadata": {},
   "source": [
    "# Motivation and the basic problem\n",
    "\n",
    "Introduction to coding theory with focus on algebraic techniques.\n",
    "\n",
    "## Motivation\n",
    "\n",
    "### The Basic Problem in Coding Theory\n",
    "\n",
    "We have some message $x$ of length $k$. We are going to encode $x$ to get a codeword $c$ of length $n$, where $n > k$. We are adding some redundancy to the original data, because we expect something bad to happen. We obtain corrupted codeword $\\tilde c$. The goal in coding theory is defining the encoding map so that given the corrupted codeword $\\tilde c$, we can recover $x$. There are many applications of coding theory, for example communication and storage.\n",
    "\n",
    "### Example: Communication\n",
    "\n",
    "Suppose we have some sender, called Alice. We have some receiver, called Bob. Alice would like to talk to Bob, but there is a noisy channel between them. Anything that Alice sends to Bob might get corrupted. In practice, Alice and Bob can be replaced by cell phone and cell tower. Alice has a message $x$ in $\\{0,1\\}^k$ that she wants to send to Bob. She is going to encode $x$ as a codeword $c \\in \\{0,1\\}^n$, which will be send across the channel. Bob receives the corrupted codeword $\\tilde c$. From this corrupted codeword, Bob figures out what Alice wanted to say. He is supposed to come up with $x$.\n",
    "\n",
    "### Example: Storage\n",
    "\n",
    "We have a file $x \\in \\{0,1\\}^k$. We want to store the file on a storage medium, such as CD, Hard Drive or Raid Ray. Bad things can happen to the storage medium. We do not want to lose our data. So, we encode $x \\in \\{0,1\\}^k$ into a codeword $c \\in \\{0,1\\}^n$ by introducing some redundancy. The codeword $c$ is stored on the devices. After something bad happens, we are going to read the corrupted codeword $\\tilde c$. Ideally, we will able to recover the original data.\n",
    "\n",
    "### Things We Care About\n",
    "\n",
    "1. Handling something bad\n",
    "1. Recovering info about $x$\n",
    "1. Minimizing overhead, namely maximize $k/n$\n",
    "1. Doing all of this efficiently, for example in the encoding and decoding process\n",
    "\n",
    "What is the best tradeoff between 1-4? If we minimize overhead, it would be harder to handle something bad or to recover info about $x$. We have not defined \"something bad\", \"info about $x$\" and \"efficiently\".\n",
    "\n",
    "## Reference\n",
    "\n",
    "[Lecture 1 Video 1: Motivation and the basic problem](https://youtu.be/vfjN7MmSB6g)"
   ]
  }
 ],
 "metadata": {
  "kernelspec": {
   "display_name": "Python 3 (ipykernel)",
   "language": "python",
   "name": "python3"
  },
  "language_info": {
   "codemirror_mode": {
    "name": "ipython",
    "version": 3
   },
   "file_extension": ".py",
   "mimetype": "text/x-python",
   "name": "python",
   "nbconvert_exporter": "python",
   "pygments_lexer": "ipython3",
   "version": "3.9.12"
  }
 },
 "nbformat": 4,
 "nbformat_minor": 5
}
